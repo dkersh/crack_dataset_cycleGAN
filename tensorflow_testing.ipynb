{
 "cells": [
  {
   "cell_type": "code",
   "execution_count": 12,
   "metadata": {},
   "outputs": [
    {
     "name": "stdout",
     "output_type": "stream",
     "text": [
      "[PhysicalDevice(name='/physical_device:GPU:0', device_type='GPU')]\n"
     ]
    }
   ],
   "source": [
    "import tensorflow as tf\n",
    "print(tf.config.list_physical_devices('GPU'))\n",
    "\n",
    "(x_train, y_train), (x_test, y_test) = tf.keras.datasets.mnist.load_data()"
   ]
  },
  {
   "cell_type": "markdown",
   "metadata": {},
   "source": [
    "# Preprocessing"
   ]
  },
  {
   "cell_type": "code",
   "execution_count": 13,
   "metadata": {},
   "outputs": [
    {
     "data": {
      "image/png": "[encoded data removed]",
      "text/plain": [
       "<Figure size 640x480 with 1 Axes>"
      ]
     },
     "metadata": {},
     "output_type": "display_data"
    }
   ],
   "source": [
    "import matplotlib.pyplot as plt\n",
    "import numpy as np\n",
    "\n",
    "ind = np.random.choice(range(len(x_train)))\n",
    "\n",
    "plt.figure()\n",
    "plt.imshow(x_train[ind])\n",
    "plt.show()"
   ]
  },
  {
   "cell_type": "code",
   "execution_count": 14,
   "metadata": {},
   "outputs": [],
   "source": [
    "# Preprocess the data (these are NumPy arrays)\n",
    "x_train = x_train.reshape(60000, 784).astype(\"float32\") / 255\n",
    "x_test = x_test.reshape(10000, 784).astype(\"float32\") / 255\n",
    "\n",
    "y_train = y_train.astype(\"float32\")\n",
    "y_test = y_test.astype(\"float32\")\n",
    "\n",
    "# Reserve 10,000 samples for validation\n",
    "x_val = x_train[-10000:]\n",
    "y_val = y_train[-10000:]\n",
    "x_train = x_train[:-10000]\n",
    "y_train = y_train[:-10000]\n"
   ]
  },
  {
   "cell_type": "markdown",
   "metadata": {},
   "source": [
    "# Define Model"
   ]
  },
  {
   "cell_type": "code",
   "execution_count": 15,
   "metadata": {},
   "outputs": [],
   "source": [
    "inputs = tf.keras.Input(shape=(784,), name=\"digits\")\n",
    "x = tf.keras.layers.Dense(64, activation=\"relu\", name=\"dense_1\")(inputs)\n",
    "x = tf.keras.layers.Dense(64, activation=\"relu\", name=\"dense_2\")(x)\n",
    "outputs = tf.keras.layers.Dense(10, activation=\"softmax\", name=\"predictions\")(x)\n",
    "\n",
    "model = tf.keras.Model(inputs=inputs, outputs=outputs)\n"
   ]
  },
  {
   "cell_type": "code",
   "execution_count": null,
   "metadata": {},
   "outputs": [],
   "source": []
  },
  {
   "cell_type": "code",
   "execution_count": 16,
   "metadata": {},
   "outputs": [],
   "source": [
    "model.compile(\n",
    "    optimizer=tf.keras.optimizers.RMSprop(),  # Optimizer\n",
    "    # Loss function to minimize\n",
    "    loss=tf.keras.losses.SparseCategoricalCrossentropy(),\n",
    "    # List of metrics to monitor\n",
    "    metrics=[tf.keras.metrics.SparseCategoricalAccuracy()],\n",
    ")\n"
   ]
  },
  {
   "cell_type": "markdown",
   "metadata": {},
   "source": [
    "# Train Model"
   ]
  },
  {
   "cell_type": "code",
   "execution_count": 18,
   "metadata": {},
   "outputs": [
    {
     "name": "stdout",
     "output_type": "stream",
     "text": [
      "Fit model on training data\n",
      "Epoch 1/10\n",
      "25/25 [==============================] - 0s 10ms/step - loss: 0.0744 - sparse_categorical_accuracy: 0.9786 - val_loss: 0.1046 - val_sparse_categorical_accuracy: 0.9696\n",
      "Epoch 2/10\n",
      "25/25 [==============================] - 0s 8ms/step - loss: 0.0737 - sparse_categorical_accuracy: 0.9787 - val_loss: 0.1084 - val_sparse_categorical_accuracy: 0.9682\n",
      "Epoch 3/10\n",
      "25/25 [==============================] - 0s 8ms/step - loss: 0.0710 - sparse_categorical_accuracy: 0.9792 - val_loss: 0.1091 - val_sparse_categorical_accuracy: 0.9687\n",
      "Epoch 4/10\n",
      "25/25 [==============================] - 0s 9ms/step - loss: 0.0687 - sparse_categorical_accuracy: 0.9804 - val_loss: 0.1120 - val_sparse_categorical_accuracy: 0.9687\n",
      "Epoch 5/10\n",
      "25/25 [==============================] - 0s 8ms/step - loss: 0.0660 - sparse_categorical_accuracy: 0.9810 - val_loss: 0.0994 - val_sparse_categorical_accuracy: 0.9723\n",
      "Epoch 6/10\n",
      "25/25 [==============================] - 0s 8ms/step - loss: 0.0631 - sparse_categorical_accuracy: 0.9821 - val_loss: 0.1017 - val_sparse_categorical_accuracy: 0.9703\n",
      "Epoch 7/10\n",
      "25/25 [==============================] - 0s 8ms/step - loss: 0.0609 - sparse_categorical_accuracy: 0.9826 - val_loss: 0.1021 - val_sparse_categorical_accuracy: 0.9700\n",
      "Epoch 8/10\n",
      "25/25 [==============================] - 0s 8ms/step - loss: 0.0585 - sparse_categorical_accuracy: 0.9832 - val_loss: 0.0961 - val_sparse_categorical_accuracy: 0.9728\n",
      "Epoch 9/10\n",
      "25/25 [==============================] - 0s 8ms/step - loss: 0.0567 - sparse_categorical_accuracy: 0.9839 - val_loss: 0.0985 - val_sparse_categorical_accuracy: 0.9713\n",
      "Epoch 10/10\n",
      "25/25 [==============================] - 0s 8ms/step - loss: 0.0534 - sparse_categorical_accuracy: 0.9853 - val_loss: 0.0955 - val_sparse_categorical_accuracy: 0.9732\n"
     ]
    }
   ],
   "source": [
    "print(\"Fit model on training data\")\n",
    "history = model.fit(\n",
    "    x_train,\n",
    "    y_train,\n",
    "    batch_size=2048,\n",
    "    epochs=10,\n",
    "    # We pass some validation for\n",
    "    # monitoring validation loss and metrics\n",
    "    # at the end of each epoch\n",
    "    validation_data=(x_val, y_val),\n",
    ")\n"
   ]
  },
  {
   "cell_type": "code",
   "execution_count": 7,
   "metadata": {},
   "outputs": [
    {
     "data": {
      "text/plain": [
       "{'loss': [0.3382378816604614, 0.16195274889469147],\n",
       " 'sparse_categorical_accuracy': [0.9041799902915955, 0.9514999985694885],\n",
       " 'val_loss': [0.21291857957839966, 0.1603642702102661],\n",
       " 'val_sparse_categorical_accuracy': [0.935699999332428, 0.9501000046730042]}"
      ]
     },
     "execution_count": 7,
     "metadata": {},
     "output_type": "execute_result"
    }
   ],
   "source": [
    "history.history"
   ]
  },
  {
   "cell_type": "code",
   "execution_count": null,
   "metadata": {},
   "outputs": [],
   "source": []
  }
 ],
 "metadata": {
  "kernelspec": {
   "display_name": "Python 3.9.13 ('tf_env')",
   "language": "python",
   "name": "python3"
  },
  "language_info": {
   "codemirror_mode": {
    "name": "ipython",
    "version": 3
   },
   "file_extension": ".py",
   "mimetype": "text/x-python",
   "name": "python",
   "nbconvert_exporter": "python",
   "pygments_lexer": "ipython3",
   "version": "3.9.13"
  },
  "orig_nbformat": 4,
  "vscode": {
   "interpreter": {
    "hash": "b8db1d6ed1741de37ab319fb31b8d7afbcf6896fb6211c67640d3123cc56a9bc"
   }
  }
 },
 "nbformat": 4,
 "nbformat_minor": 2
}
